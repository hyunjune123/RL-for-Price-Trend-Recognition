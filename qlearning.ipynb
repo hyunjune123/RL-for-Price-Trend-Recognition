{
  "nbformat": 4,
  "nbformat_minor": 0,
  "metadata": {
    "kernelspec": {
      "display_name": "Python 3",
      "language": "python",
      "name": "python3"
    },
    "language_info": {
      "codemirror_mode": {
        "name": "ipython",
        "version": 3
      },
      "file_extension": ".py",
      "mimetype": "text/x-python",
      "name": "python",
      "nbconvert_exporter": "python",
      "pygments_lexer": "ipython3",
      "version": "3.7.4"
    },
    "colab": {
      "name": "qlearning.ipynb",
      "provenance": [],
      "collapsed_sections": [
        "RjzsBP80-mSM",
        "_SxBf5_y-mSS",
        "A8YV0QeT-mSW",
        "jIJKwFo4UWFw"
      ],
      "include_colab_link": true
    }
  },
  "cells": [
    {
      "cell_type": "markdown",
      "metadata": {
        "id": "view-in-github",
        "colab_type": "text"
      },
      "source": [
        "<a href=\"https://colab.research.google.com/github/hyunjune123/RL-for-Price-Trend-Recognition/blob/main/qlearning.ipynb\" target=\"_parent\"><img src=\"https://colab.research.google.com/assets/colab-badge.svg\" alt=\"Open In Colab\"/></a>"
      ]
    },
    {
      "cell_type": "markdown",
      "metadata": {
        "id": "sYNZd5DSXgpS"
      },
      "source": [
        "# Required Libraries"
      ]
    },
    {
      "cell_type": "code",
      "metadata": {
        "id": "FdelkT2GS48K",
        "outputId": "d3f1a0ea-aa28-45ef-852d-c43381e7dd7f",
        "colab": {
          "base_uri": "https://localhost:8080/",
          "height": 34
        }
      },
      "source": [
        "# This will create google drive directory as working directory\n",
        "from google.colab import drive\n",
        "drive.mount('/content/drive')"
      ],
      "execution_count": null,
      "outputs": [
        {
          "output_type": "stream",
          "text": [
            "Mounted at /content/drive\n"
          ],
          "name": "stdout"
        }
      ]
    },
    {
      "cell_type": "code",
      "metadata": {
        "id": "Ocm2BioB-mSJ"
      },
      "source": [
        "# Libraries used\n",
        "import random\n",
        "from datetime import datetime\n",
        "import time\n",
        "import pickle\n",
        "import os\n",
        "import pdb\n",
        "\n",
        "import keras\n",
        "from keras.models import Model, load_model\n",
        "from keras.layers import Input, Dense, Dropout\n",
        "from keras.optimizers import Adam\n",
        "from keras.initializers import glorot_uniform, Constant\n",
        "from keras.regularizers import l2\n",
        "import keras.backend as K\n",
        "\n",
        "import numpy as np\n",
        "import pandas as pd\n",
        "import math\n",
        "\n",
        "\n",
        "from matplotlib import pyplot as plt\n",
        "from matplotlib.lines import Line2D\n",
        "\n",
        "from IPython.display import Image"
      ],
      "execution_count": 2,
      "outputs": []
    },
    {
      "cell_type": "markdown",
      "metadata": {
        "id": "WURTgCVOXfyO"
      },
      "source": [
        ""
      ]
    },
    {
      "cell_type": "markdown",
      "metadata": {
        "id": "jz7Qhh4eXoPA"
      },
      "source": [
        "# Introduction\n",
        "\n",
        "In this experiment, we successfully trained a Q-value iteration based reinfocement learning model that learns increaing and decreasing trends. For convenience, we call the values generated in this research as stock prices. However, note that the model is not limited to price movements, but can be applied to various fields of studies including demography, physics, epidemiology, and so on.\n",
        "\n",
        "The goal of the model is to decide how the price movement trend is today and decide which action among buy, hold, and sell would be optimal.\n",
        "\n",
        "We first define the Q-learning model and try training the model on simple harmonic motion. Then we will train the model on noise and dampning added motion data set."
      ]
    },
    {
      "cell_type": "markdown",
      "metadata": {
        "id": "lJivJvpm-mSL"
      },
      "source": [
        "# Reinforcement Learning on simple harmonic motion\n",
        "\n",
        "We aim to train the model on a simple harmonic motion of price values. This is done to ensure that the model converges on simple data and to confirm that the model learns its decision boundaries either to sell, hold, or buy at a given time step.\n",
        " "
      ]
    },
    {
      "cell_type": "markdown",
      "metadata": {
        "id": "RjzsBP80-mSM"
      },
      "source": [
        "## Data generation\n",
        "\n",
        "Data will be generated based on simple harmonic motion based on Hooke's law. Below is the generated data table of stock prices. "
      ]
    },
    {
      "cell_type": "code",
      "metadata": {
        "id": "_kJLwre_-mSM",
        "outputId": "36cc87e4-e905-40d5-8ba1-3940a021c14f",
        "colab": {
          "base_uri": "https://localhost:8080/",
          "height": 419
        }
      },
      "source": [
        "# Code copied from https://alphaarchitect.com/2020/02/26/reinforcement-learning-for-trading/#note-54032-4\n",
        "# Author : Druce Vertes\n",
        "\n",
        "def shm_gen(dt=0.001,\n",
        "            coef=100,     # coef = k/m\n",
        "            amplitude=2, \n",
        "            start_trend=100, \n",
        "            trend_per_tick=0.0, \n",
        "            noise=0.0, \n",
        "            damping=0.0, \n",
        "            verbose=False):\n",
        "    \"\"\"Generate simple harmonic motion around trend, with noise and damping\"\"\"\n",
        "    \n",
        "    period = 2 * np.pi * np.sqrt(1/coef)\n",
        "\n",
        "    if verbose:\n",
        "        print(\"%s Amplitude: %.3f\" % (time.strftime(\"%H:%M:%S\"), amplitude))\n",
        "        print(\"%s Period: %.3f\" % (time.strftime(\"%H:%M:%S\"), period))\n",
        "\n",
        "    # initial stock price\n",
        "    stock_price = start_trend + amplitude\n",
        "    stock_velocity = 0.0\n",
        "    \n",
        "    trend_index = start_trend\n",
        "    t = 0.0\n",
        "\n",
        "    while True:\n",
        "        # acceleration based on distance from trend\n",
        "        acc = - coef * (stock_price - trend_index) \n",
        "        stock_velocity += acc * dt\n",
        "        # add noise to velocity\n",
        "        stock_velocity += np.random.normal(loc=0, scale=noise)\n",
        "        # damp velocity by a % (could also make this a constant)\n",
        "        stock_velocity *= (1-damping)\n",
        "        # increment stock price\n",
        "        stock_price += stock_velocity * tick_length\n",
        "        # add noise; doesn't impact velocity which makes velocity a partly hidden state variable\n",
        "        stock_price += np.random.normal(loc=0, scale=noise/2)\n",
        "        \n",
        "        yield(t, stock_price, trend_index)\n",
        "        t += dt\n",
        "# simulate market data\n",
        "total_time=1\n",
        "ticks = 1000\n",
        "tick_length = total_time/ticks\n",
        "\n",
        "# coef = k/m\n",
        "coef=100\n",
        "amplitude=2 \n",
        "start_trend=100 \n",
        "trend_per_tick=0.0 \n",
        "noise=0.0 \n",
        "damping=0.0 \n",
        "\n",
        "period = 2 * np.pi * np.sqrt(1/coef)\n",
        "print(period)\n",
        "# gen = shm_gen(dt=total_time/ticks,\n",
        "#               coef=coef,\n",
        "#               amplitude=amplitude, \n",
        "#               start_trend=start_trend, \n",
        "#               trend_per_tick=trend_per_tick, \n",
        "#               noise=noise, \n",
        "#               damping=damping, \n",
        "#               verbose=1)\n",
        "\n",
        "gen = shm_gen()\n",
        "\n",
        "trend_series = []\n",
        "stock_series = []\n",
        "time_series = []\n",
        "\n",
        "for i in range(ticks):\n",
        "    t, stock_price, trend_index = next(gen)\n",
        "    stock_series.append(stock_price)\n",
        "    trend_series.append(trend_index)\n",
        "    time_series.append(t)\n",
        "    \n",
        "\n",
        "svm_df = pd.DataFrame({'dateindex': time_series, 'trend' : trend_series, 'stock': stock_series})\n",
        "svm_df['ma'] = svm_df['stock'].rolling(int(0.5*period*ticks)).mean()\n",
        "svm_df['dateindex'] *= 1000\n",
        "svm_df"
      ],
      "execution_count": 18,
      "outputs": [
        {
          "output_type": "stream",
          "text": [
            "0.6283185307179586\n"
          ],
          "name": "stdout"
        },
        {
          "output_type": "execute_result",
          "data": {
            "text/html": [
              "<div>\n",
              "<style scoped>\n",
              "    .dataframe tbody tr th:only-of-type {\n",
              "        vertical-align: middle;\n",
              "    }\n",
              "\n",
              "    .dataframe tbody tr th {\n",
              "        vertical-align: top;\n",
              "    }\n",
              "\n",
              "    .dataframe thead th {\n",
              "        text-align: right;\n",
              "    }\n",
              "</style>\n",
              "<table border=\"1\" class=\"dataframe\">\n",
              "  <thead>\n",
              "    <tr style=\"text-align: right;\">\n",
              "      <th></th>\n",
              "      <th>dateindex</th>\n",
              "      <th>trend</th>\n",
              "      <th>stock</th>\n",
              "      <th>ma</th>\n",
              "    </tr>\n",
              "  </thead>\n",
              "  <tbody>\n",
              "    <tr>\n",
              "      <th>0</th>\n",
              "      <td>0.0</td>\n",
              "      <td>100</td>\n",
              "      <td>101.999800</td>\n",
              "      <td>NaN</td>\n",
              "    </tr>\n",
              "    <tr>\n",
              "      <th>1</th>\n",
              "      <td>1.0</td>\n",
              "      <td>100</td>\n",
              "      <td>101.999400</td>\n",
              "      <td>NaN</td>\n",
              "    </tr>\n",
              "    <tr>\n",
              "      <th>2</th>\n",
              "      <td>2.0</td>\n",
              "      <td>100</td>\n",
              "      <td>101.998800</td>\n",
              "      <td>NaN</td>\n",
              "    </tr>\n",
              "    <tr>\n",
              "      <th>3</th>\n",
              "      <td>3.0</td>\n",
              "      <td>100</td>\n",
              "      <td>101.998000</td>\n",
              "      <td>NaN</td>\n",
              "    </tr>\n",
              "    <tr>\n",
              "      <th>4</th>\n",
              "      <td>4.0</td>\n",
              "      <td>100</td>\n",
              "      <td>101.997001</td>\n",
              "      <td>NaN</td>\n",
              "    </tr>\n",
              "    <tr>\n",
              "      <th>...</th>\n",
              "      <td>...</td>\n",
              "      <td>...</td>\n",
              "      <td>...</td>\n",
              "      <td>...</td>\n",
              "    </tr>\n",
              "    <tr>\n",
              "      <th>995</th>\n",
              "      <td>995.0</td>\n",
              "      <td>100</td>\n",
              "      <td>98.284832</td>\n",
              "      <td>99.338440</td>\n",
              "    </tr>\n",
              "    <tr>\n",
              "      <th>996</th>\n",
              "      <td>996.0</td>\n",
              "      <td>100</td>\n",
              "      <td>98.295205</td>\n",
              "      <td>99.327586</td>\n",
              "    </tr>\n",
              "    <tr>\n",
              "      <th>997</th>\n",
              "      <td>997.0</td>\n",
              "      <td>100</td>\n",
              "      <td>98.305749</td>\n",
              "      <td>99.316800</td>\n",
              "    </tr>\n",
              "    <tr>\n",
              "      <th>998</th>\n",
              "      <td>998.0</td>\n",
              "      <td>100</td>\n",
              "      <td>98.316462</td>\n",
              "      <td>99.306083</td>\n",
              "    </tr>\n",
              "    <tr>\n",
              "      <th>999</th>\n",
              "      <td>999.0</td>\n",
              "      <td>100</td>\n",
              "      <td>98.327343</td>\n",
              "      <td>99.295434</td>\n",
              "    </tr>\n",
              "  </tbody>\n",
              "</table>\n",
              "<p>1000 rows × 4 columns</p>\n",
              "</div>"
            ],
            "text/plain": [
              "     dateindex  trend       stock         ma\n",
              "0          0.0    100  101.999800        NaN\n",
              "1          1.0    100  101.999400        NaN\n",
              "2          2.0    100  101.998800        NaN\n",
              "3          3.0    100  101.998000        NaN\n",
              "4          4.0    100  101.997001        NaN\n",
              "..         ...    ...         ...        ...\n",
              "995      995.0    100   98.284832  99.338440\n",
              "996      996.0    100   98.295205  99.327586\n",
              "997      997.0    100   98.305749  99.316800\n",
              "998      998.0    100   98.316462  99.306083\n",
              "999      999.0    100   98.327343  99.295434\n",
              "\n",
              "[1000 rows x 4 columns]"
            ]
          },
          "metadata": {
            "tags": []
          },
          "execution_count": 18
        }
      ]
    },
    {
      "cell_type": "code",
      "metadata": {
        "scrolled": true,
        "id": "XkZVbWze-mSP",
        "outputId": "1ada15b0-4ab9-44be-954b-c4d085369f32",
        "colab": {
          "base_uri": "https://localhost:8080/",
          "height": 336
        }
      },
      "source": [
        "x = svm_df['dateindex']\n",
        "y = svm_df['stock']\n",
        "fig = plt.figure()\n",
        "ax = fig.add_axes([0,0,1,1])\n",
        "ax.plot(x,y)\n",
        "ax.set_title = \"Simple harmonic motion stock price\"\n",
        "ax.set_xlabel = \"Timestep\"\n",
        "ax.set_ylabel = 'Price'"
      ],
      "execution_count": 19,
      "outputs": [
        {
          "output_type": "display_data",
          "data": {
            "image/png": "[encoded data removed]",
            "text/plain": [
              "<Figure size 432x288 with 1 Axes>"
            ]
          },
          "metadata": {
            "tags": [],
            "needs_background": "light"
          }
        }
      ]
    },
    {
      "cell_type": "markdown",
      "metadata": {
        "id": "_SxBf5_y-mSS"
      },
      "source": [
        "## Define Q-Learning agent \n",
        "\n",
        "We define the Q-learning agent here with the following setting.\n",
        "\n",
        "* actions : Buy / Hold / Sell\n",
        "* Discount rate (gamma) : 0.95\n",
        "* Learning rate : 0.001\n",
        "* Epsilon decay rate = 0.995"
      ]
    },
    {
      "cell_type": "code",
      "metadata": {
        "id": "RO53rkQP-mSS"
      },
      "source": [
        "class Agent:\n",
        "    \n",
        "    def __init__(self,window,batchLen):\n",
        "\n",
        "        # input parameter\n",
        "        self.state_size = window\n",
        "        self.batchLen = batchLen\n",
        "        self.prev = None\n",
        "\n",
        "        # hyper parameter\n",
        "        self.g = 0.95 # discount rate\n",
        "        self.epsilon = 1 # greedy-epsilon\n",
        "        self.min_epsilon = 0.01\n",
        "        self.decay = 0.995 #0.995 # epsilon will decay overtime\n",
        "        self.model =  self.make_model(30,16,16,3,0.01, 0.001, 0.0675) # Qvalue NN approximator\n",
        "        self.memory = pd.DataFrame(columns = [\"state\", \"action\", \"next_state\",\"reward\",\"done\"])\n",
        "        self.memory_size = 100000\n",
        "        self.total_reward = 0\n",
        "        self.history = pd.DataFrame(columns = [\"date\", \"price\", \"action\", \"reward\",\"total_reward\"])\n",
        "        self.sample_size = 256\n",
        "        self.reward_mult = 100\n",
        "        self.total_reward_hist = []\n",
        "        \n",
        "        # constant parameter\n",
        "        self.actionSpace = 3 # {sit = 0, buy = 1, sell = 2} for now...\n",
        "\n",
        "    def make_model(self,in_dim, l1_num, l2_num, act_size, learn, reg, dropout):\n",
        "        inputs = Input(shape=(in_dim,), name=\"Input\")\n",
        "\n",
        "        layer_1 = Dense(units=l1_num, \n",
        "                        activation=\"relu\",\n",
        "                        kernel_initializer = glorot_uniform(),\n",
        "                        kernel_regularizer = l2(reg))(inputs)\n",
        "\n",
        "        last = layer_1\n",
        "\n",
        "        outputs = Dense(act_size, activation = 'linear',\n",
        "                        name = 'Output')(last)\n",
        "\n",
        "        model = Model(inputs = inputs, outputs = outputs)\n",
        "        model.compile(loss = 'mse', optimizer = Adam(learning_rate = learn))\n",
        "\n",
        "        return model\n",
        "\n",
        "\n",
        "    # Makes decision based on NN if epsilon value is low enough\n",
        "    # otherwise random decision\n",
        "    def act(self,state):\n",
        "        # exploration\n",
        "        if random.random() <= self.epsilon:\n",
        "            act = random.randrange(self.actionSpace)\n",
        "            \n",
        "        # exploitation\n",
        "        else:\n",
        "            state = state.reshape(1,-1)\n",
        "            qvals = self.model.predict(state)[0]\n",
        "            act = np.argmax(qvals)\n",
        "\n",
        "        assert act == 0 or act == 1 or act == 2\n",
        "        \n",
        "        return act\n",
        "    \n",
        "    # update agent's trade history memory\n",
        "    # memory is used for training in an episode\n",
        "    def update_memory(self,new_mem):\n",
        "        if self.memory.shape[0] > self.memory_size:\n",
        "            self.memory = self.memory[-self.memory_size:]\n",
        "        self.memory = pd.concat([self.memory, new_mem], ignore_index=True)\n",
        "    \n",
        "\n",
        "    # Experience replay based update in Q-value NN approximator\n",
        "    def update_agent_nn(self):\n",
        "        memoryLen = len(self.memory)\n",
        "        batch_len = self.batchLen\n",
        "        samp_size = self.sample_size\n",
        "        \n",
        "        # Not enough memory\n",
        "        if self.memory.shape[0] < samp_size:\n",
        "            return\n",
        "        \n",
        "        minibatch = self.memory.sample(n=samp_size) \n",
        "        \n",
        "        X_fit = np.concatenate(minibatch['state'].values)\n",
        "        X_fit = X_fit.reshape((samp_size, self.state_size))\n",
        "        Y_pred = self.model.predict(X_fit)\n",
        "\n",
        "        minibatch['q'] = minibatch['reward']\n",
        "        # if not done, add discount_rate  * Q-value for next state\n",
        "        not_done = minibatch.loc[minibatch['done'] == False]\n",
        "        X_observed = np.concatenate(not_done['next_state'].values)\n",
        "        X_observed = X_observed.reshape((not_done.shape[0], self.state_size))\n",
        "        next_q = np.amax(self.model.predict(X_observed), axis=1) \n",
        "       \n",
        "      \n",
        "        # update Q value for actions model took\n",
        "        minibatch.loc[minibatch['done'] == False, 'q'] += self.g * next_q\n",
        "        np.put_along_axis(Y_pred,\n",
        "                          minibatch['action'].astype(int).values.reshape(samp_size, 1),\n",
        "                          minibatch['q'].values.reshape(samp_size, 1),\n",
        "                          axis=1)\n",
        "\n",
        "        self.model.fit(X_fit, Y_pred,\n",
        "                       epochs=1,\n",
        "                       batch_size=batch_len,\n",
        "                       verbose = 0)\n",
        "        \n",
        "        if self.epsilon > self.min_epsilon:\n",
        "            self.epsilon *= self.decay\n",
        "    \n",
        "\n",
        "    # Supplementary functions below ...\n",
        "            \n",
        "    def reset(self):\n",
        "        self.total_reward = 0\n",
        "        self.history = self.history[0:0]\n",
        "    \n",
        "    def plot(self, episode_i, dir_name):\n",
        "        current_directory = os.getcwd() + '/' + dir_name +'/'\n",
        "        final_directory = os.path.join(current_directory, r'plot_%d' %episode_i)\n",
        "        if not os.path.exists(final_directory):\n",
        "           os.makedirs(final_directory)\n",
        "        \n",
        "        # Divide the graph into portions\n",
        "        self.history['action'] = self.history['action'].map({0: 'sell', 1:'hold',2: 'buy'})\n",
        "        portion = 1\n",
        "        colors = {'sell' : 'red', 'hold' : 'black', 'buy' : 'blue'}\n",
        "        legends = ['red', 'black', 'blue']\n",
        "        for df in np.array_split(self.history, 5):\n",
        "            '''\n",
        "            groups = df.groupby(\"action\")\n",
        "            for name, group in groups:\n",
        "                plt.plot(group[\"date\"], group[\"price\"], marker=\".\", linestyle=\"\", label=name)\n",
        "            plt.legend()\n",
        "            '''\n",
        "            if len(self.history) < 250:\n",
        "                df = self.history\n",
        "            fig, ax = plt.subplots()\n",
        "            ax.scatter(df['date'], df['price'], \n",
        "                       c=df['action'].apply(lambda x: colors[x]),\n",
        "                       s=3)\n",
        "            ax.legend()\n",
        "            my_file = \"episode_\"+str(episode_i)+\"_part_\"+str(portion)+\".png\"\n",
        "            lines = [Line2D([0], [0], color=c, linewidth=3, linestyle='-') for c in legends]\n",
        "            labels = ['sell', 'hold', 'buy']\n",
        "            plt.legend(lines, labels)\n",
        "            plt.savefig(os.path.join(final_directory, my_file))\n",
        "            plt.close()\n",
        "            portion += 1\n",
        "            if len(self.history) < 250:\n",
        "                break\n",
        "        \n",
        "    def save_history_csv(self, i, name):\n",
        "        self.history.to_csv(name+'/episode_%d_history.csv' %i, index=False)\n",
        "    # vectorized version of trade function for speed\n",
        "\n",
        "    def trade(self, df):\n",
        "        df_len = len(df)\n",
        "        states = df['state']\n",
        "        next_states = df['next_state']\n",
        "        price_diff = df['price_diff']\n",
        "        random_act_index = random.sample(range(0,df_len), \n",
        "                                        math.floor(self.epsilon*df_len-1))\n",
        "        X_observed = np.concatenate(states)\n",
        "        X_observed = X_observed.reshape((len(states), self.state_size))\n",
        "        action_vec = np.argmax(self.model.predict(X_observed), axis = 1)\n",
        "        for i in random_act_index:\n",
        "            action_vec[i] = random.randrange(self.actionSpace)\n",
        "        # actions are subtracted by 1 to make sell = -1, hold = 0, buy = 1\n",
        "        # example. if price went up next day so that price difference is +10,\n",
        "        #          then reward for buying is 1 * 10, while reward for selling is\n",
        "        #          -1 * 10. \n",
        "        reward_vec = price_diff * (action_vec-1) * self.reward_mult\n",
        "        done_vec = np.repeat(False, df_len)\n",
        "        done_vec[df_len-1] = True\n",
        "        self.total_reward = sum(reward_vec)\n",
        "        # Record trade history for plot\n",
        "        new_mem = {'date' : df['dates'],\n",
        "                'price' : df['price'], \n",
        "                'action' : action_vec,\n",
        "                'reward' : reward_vec, \n",
        "                'total_reward' : np.cumsum(reward_vec)}\n",
        "        self.history = pd.DataFrame(new_mem)\n",
        "    \n",
        "        # Update memory\n",
        "        new_mem = {'state' : states,\n",
        "                    'action' : action_vec, \n",
        "                    'next_state' : next_states,\n",
        "                    'reward' : reward_vec, \n",
        "                    'done' : done_vec}\n",
        "\n",
        "        self.update_memory(pd.DataFrame(new_mem))\n",
        "\n",
        "    def validate(self, i, dir_name, df):\n",
        "        final_directory = os.getcwd() + '/' + dir_name\n",
        "\n",
        "        df_len = len(df)\n",
        "        states = df['state'].reset_index(drop=True)\n",
        "        price_diff = df['price_diff'].reset_index(drop=True)\n",
        "        X_observed = np.concatenate(states)\n",
        "        X_observed = X_observed.reshape((len(states), self.state_size))\n",
        "        action_vec = np.argmax(self.model.predict(X_observed), axis = 1)\n",
        "        reward_vec = price_diff * (action_vec-1) * self.reward_mult\n",
        "\n",
        "        print(\"Validation ended with reward : %d\" %np.sum(reward_vec))\n",
        "        df['action'] = action_vec\n",
        "        fig, ax = plt.subplots()\n",
        "\n",
        "        # plot validation\n",
        "        df['action'] = df['action'].map({0: 'sell', 1:'hold',2: 'buy'})\n",
        "        colors = {'sell' : 'red', 'hold' : 'black', 'buy' : 'blue'}\n",
        "        legends = ['red', 'black', 'blue']\n",
        "        ax.scatter(df['dates'], df['price'], \n",
        "                    c=df['action'].apply(lambda x: colors[x]),\n",
        "                    s=3)\n",
        "        ax.legend()\n",
        "        my_file = name + \"_\"+\"validation_\"+str(i)+\".png\"\n",
        "        lines = [Line2D([0], [0], color=c, linewidth=3, linestyle='-') for c in legends]\n",
        "        labels = ['sell', 'hold', 'buy']\n",
        "        plt.legend(lines, labels)\n",
        "        plt.savefig(os.path.join(final_directory, my_file))\n",
        "        plt.close()\n",
        "\n",
        "\n",
        "\n",
        "\n",
        "        \n",
        "            "
      ],
      "execution_count": 110,
      "outputs": []
    },
    {
      "cell_type": "markdown",
      "metadata": {
        "id": "A8YV0QeT-mSW"
      },
      "source": [
        "## State Representation\n",
        "\n",
        "We need to define the structure of our state space. There could be many possible state representations, from a very simple recent 30 days relative price vector to complex financial technical indicators. Below are some functions to build these states from stock price data."
      ]
    },
    {
      "cell_type": "code",
      "metadata": {
        "id": "45ERioQD-mSW"
      },
      "source": [
        "# Simple recent 30 days price\n",
        "# Input : stock price data frame\n",
        "# Output : same data frame with 'state' and 'next_state' columns added.\n",
        "#          state representation is [p1, p2, p3 .... p29, p30]\n",
        "#          p = price - 100\n",
        "def state_rp(agent, df):\n",
        "    states = []\n",
        "    next_states = []\n",
        "    price_diffs = []\n",
        "    dates = []\n",
        "    prices = []\n",
        "    for i in range(agent.state_size, len(df)-1):\n",
        "        state = np.array((df['stock'])[i-agent.state_size:i])\n",
        "        #states += [state]\n",
        "        states += [(state - np.mean(state))/np.std(state)]\n",
        "        next_state = np.array((df['stock'])[i-agent.state_size+1:i+1])\n",
        "        #next_states += [next_state]\n",
        "        next_states += [(next_state - np.mean(next_state))/np.std(next_state)]\n",
        "        price_diffs += [(df['stock'][i]-df['stock'][i-1])]\n",
        "        prices += [df['stock'][i-1]]\n",
        "        dates += [df['dateindex'][i-1]]\n",
        "    new_df = pd.DataFrame({'state':states, 'next_state':next_states,'price':prices,'dates':dates, 'price_diff':price_diffs})\n",
        "    return new_df"
      ],
      "execution_count": 21,
      "outputs": []
    },
    {
      "cell_type": "markdown",
      "metadata": {
        "id": "BOyRbJzA-mSZ"
      },
      "source": [
        "## Training the agent\n",
        "\n",
        "We train the agent for multiple episodes of trade simulations. For each episode, the agent (1) trades for one episode, (2) the trade history and performace is recorded, and (3) agent updates its neural network based on it's trade performance. We wish to see that as episode number increases, trade performance increases as well. The performance can be assessed by the variable total_reward."
      ]
    },
    {
      "cell_type": "code",
      "metadata": {
        "id": "M2dO4BCj-mSZ"
      },
      "source": [
        "# Let the agent trade for an entire episode and record it's decisions and performance.\n",
        "        \n",
        "def episodes_run(df, val_df, agent, episode_num, name):\n",
        "    if not os.path.exists(name):\n",
        "        os.makedirs(name)\n",
        "\n",
        "    for i in range(0, episode_num):\n",
        "        print(\"episode %d\" %i)\n",
        "        # Agent trades\n",
        "        agent.trade(df)\n",
        "    \n",
        "        # QNN is updated\n",
        "        agent.update_agent_nn()\n",
        "    \n",
        "        # Plot and save agent history of trade for each xth episode\n",
        "        x = 200\n",
        "        if (i+1) % x == 0:\n",
        "            print(\"plotting...\")\n",
        "            agent.plot(i, name)\n",
        "            agent.save_history_csv(i, name)\n",
        "            agent.validate(i, name, val_df)\n",
        "\n",
        "        # record total reward for this episode\n",
        "        agent.total_reward_hist += [agent.total_reward]\n",
        "\n",
        "        # Reset agent for next episode\n",
        "        agent.reset()\n",
        "\n",
        "def plot_total_reward(hist, name):\n",
        "    x = range(0, len(hist))\n",
        "    hist = [hist[i]/100 for i in range(0, len(hist))]\n",
        "    plt.scatter(x, hist)\n",
        "    plt.xlabel = \"Episodes\"\n",
        "    plt.ylabel = \"Total Reward\"\n",
        "    plt.savefig(name + \"/total_reward.png\")\n",
        "    plt.close()\n",
        "        \n",
        "\n",
        "    "
      ],
      "execution_count": 88,
      "outputs": []
    },
    {
      "cell_type": "markdown",
      "metadata": {
        "id": "bJ2PJfJeOm9J"
      },
      "source": [
        "## Evaluation\n",
        "\n",
        "A single episode of training won't be enough for the model to learn. Below, we will run 1000 episodes and record the model performace. For every 200th episode the performance plot will be saved in directory. A plot of total reward for each episode will be saved at the end.\n",
        "\n"
      ]
    },
    {
      "cell_type": "code",
      "metadata": {
        "id": "eJHt5PfqlDOG"
      },
      "source": [
        "name = \"simple_harmonic_motion\"\n",
        "agent = Agent(30, 1)\n",
        "rl_df = state_rp(agent, svm_df)\n",
        "train_df, val_df= np.split(rl_df, [int(.8 *len(rl_df))])\n",
        "episodes_run(train_df, val_df, agent, 1000, name)\n",
        "plot_total_reward(agent.total_reward_hist, name)\n",
        "\n",
        "\n"
      ],
      "execution_count": null,
      "outputs": []
    },
    {
      "cell_type": "markdown",
      "metadata": {
        "id": "PmkbhQ9-sx3O"
      },
      "source": [
        "Total reward plot below shows that the model has converged after around 700 episodes. Also check out the individual plots in the current directory. We can see that there is clear decision boundaries depending on the price movement."
      ]
    },
    {
      "cell_type": "code",
      "metadata": {
        "id": "u1tlyg0_ts2D",
        "outputId": "2092699e-e541-4938-fa25-632dac8282bd",
        "colab": {
          "base_uri": "https://localhost:8080/",
          "height": 305
        }
      },
      "source": [
        "Image('simple_harmonic_motion/total_reward.png')"
      ],
      "execution_count": null,
      "outputs": [
        {
          "output_type": "execute_result",
          "data": {
            "image/png": "[encoded data removed]",
            "text/plain": [
              "<IPython.core.display.Image object>"
            ]
          },
          "metadata": {
            "tags": []
          },
          "execution_count": 88
        }
      ]
    },
    {
      "cell_type": "markdown",
      "metadata": {
        "id": "CFPjBIBFuSKv"
      },
      "source": [
        ""
      ]
    },
    {
      "cell_type": "markdown",
      "metadata": {
        "id": "6karSG_-3ZeN"
      },
      "source": [
        "The epsode plots below shows that the model completely learned to maximize reward for the simple harmonic motion data set. When the price increases, the model decides to buy and when the price falls, the model decides to sell."
      ]
    },
    {
      "cell_type": "code",
      "metadata": {
        "id": "01xdArvc3rcO"
      },
      "source": [
        "Image('simple_harmonic_motion/plot_800/episode_800_part_1.png')"
      ],
      "execution_count": null,
      "outputs": []
    },
    {
      "cell_type": "code",
      "metadata": {
        "id": "VL6p5ObR30Wq"
      },
      "source": [
        "Image('simple_harmonic_motion/plot_800/episode_800_part_2.png')"
      ],
      "execution_count": null,
      "outputs": []
    },
    {
      "cell_type": "code",
      "metadata": {
        "id": "nxTFrnFQ31CS"
      },
      "source": [
        "Image('simple_harmonic_motion/plot_800/episode_800_part_3.png')"
      ],
      "execution_count": null,
      "outputs": []
    },
    {
      "cell_type": "markdown",
      "metadata": {
        "id": "J_7FwrzVj6vD"
      },
      "source": [
        "# Reinforcement Learning on noise added simple harmonic motion\n",
        "\n",
        "We add noise and dampning to the simple harmonic motion. This retains the stock price trend while adding randomness to the change of price. We want to see how the model would deal with random price changes. "
      ]
    },
    {
      "cell_type": "markdown",
      "metadata": {
        "id": "CNUYaw_QkCyv"
      },
      "source": [
        "##Data Generation"
      ]
    },
    {
      "cell_type": "code",
      "metadata": {
        "id": "9UrfWLFzkBoM",
        "outputId": "9f7d52b8-52f1-4ca2-936c-dba99562edc1",
        "colab": {
          "base_uri": "https://localhost:8080/",
          "height": 437
        }
      },
      "source": [
        "total_time=1\n",
        "ticks = 1000\n",
        "tick_length = total_time/ticks\n",
        "\n",
        "# coef = k/m\n",
        "coef=100     \n",
        "amplitude=1\n",
        "start_trend=100 \n",
        "trend_per_tick=0.0 \n",
        "noise=0.2\n",
        "damping=0.002\n",
        "\n",
        "period = 2 * np.pi * np.sqrt(1/coef)\n",
        "\n",
        "gen = shm_gen(dt=total_time/ticks,\n",
        "              coef=coef,     # coef = k/m\n",
        "              amplitude=amplitude, \n",
        "              start_trend=start_trend, \n",
        "              trend_per_tick=trend_per_tick, \n",
        "              noise=noise, \n",
        "              damping=damping, \n",
        "              verbose=1)\n",
        "\n",
        "trend_series = []\n",
        "stock_series = []\n",
        "time_series = []\n",
        "\n",
        "for i in range(ticks):\n",
        "    t, stock_price, trend_index = next(gen)\n",
        "    \n",
        "    stock_series.append(stock_price)\n",
        "    trend_series.append(trend_index)\n",
        "    time_series.append(t)\n",
        "\n",
        "noise_shm_df = pd.DataFrame({'dateindex': time_series, 'trend' : trend_series, 'stock': stock_series})\n",
        "noise_shm_df['ma'] = noise_shm_df['stock'].rolling(int(0.5*period*ticks)).mean()\n",
        "noise_shm_df"
      ],
      "execution_count": 96,
      "outputs": [
        {
          "output_type": "stream",
          "text": [
            "22:10:41 Amplitude: 1.000\n",
            "22:10:41 Period: 0.628\n"
          ],
          "name": "stdout"
        },
        {
          "output_type": "execute_result",
          "data": {
            "text/html": [
              "<div>\n",
              "<style scoped>\n",
              "    .dataframe tbody tr th:only-of-type {\n",
              "        vertical-align: middle;\n",
              "    }\n",
              "\n",
              "    .dataframe tbody tr th {\n",
              "        vertical-align: top;\n",
              "    }\n",
              "\n",
              "    .dataframe thead th {\n",
              "        text-align: right;\n",
              "    }\n",
              "</style>\n",
              "<table border=\"1\" class=\"dataframe\">\n",
              "  <thead>\n",
              "    <tr style=\"text-align: right;\">\n",
              "      <th></th>\n",
              "      <th>dateindex</th>\n",
              "      <th>trend</th>\n",
              "      <th>stock</th>\n",
              "      <th>ma</th>\n",
              "    </tr>\n",
              "  </thead>\n",
              "  <tbody>\n",
              "    <tr>\n",
              "      <th>0</th>\n",
              "      <td>0.000</td>\n",
              "      <td>100</td>\n",
              "      <td>100.884835</td>\n",
              "      <td>NaN</td>\n",
              "    </tr>\n",
              "    <tr>\n",
              "      <th>1</th>\n",
              "      <td>0.001</td>\n",
              "      <td>100</td>\n",
              "      <td>101.022569</td>\n",
              "      <td>NaN</td>\n",
              "    </tr>\n",
              "    <tr>\n",
              "      <th>2</th>\n",
              "      <td>0.002</td>\n",
              "      <td>100</td>\n",
              "      <td>101.035576</td>\n",
              "      <td>NaN</td>\n",
              "    </tr>\n",
              "    <tr>\n",
              "      <th>3</th>\n",
              "      <td>0.003</td>\n",
              "      <td>100</td>\n",
              "      <td>101.057841</td>\n",
              "      <td>NaN</td>\n",
              "    </tr>\n",
              "    <tr>\n",
              "      <th>4</th>\n",
              "      <td>0.004</td>\n",
              "      <td>100</td>\n",
              "      <td>101.063636</td>\n",
              "      <td>NaN</td>\n",
              "    </tr>\n",
              "    <tr>\n",
              "      <th>...</th>\n",
              "      <td>...</td>\n",
              "      <td>...</td>\n",
              "      <td>...</td>\n",
              "      <td>...</td>\n",
              "    </tr>\n",
              "    <tr>\n",
              "      <th>995</th>\n",
              "      <td>0.995</td>\n",
              "      <td>100</td>\n",
              "      <td>97.224865</td>\n",
              "      <td>99.898279</td>\n",
              "    </tr>\n",
              "    <tr>\n",
              "      <th>996</th>\n",
              "      <td>0.996</td>\n",
              "      <td>100</td>\n",
              "      <td>97.395644</td>\n",
              "      <td>99.884368</td>\n",
              "    </tr>\n",
              "    <tr>\n",
              "      <th>997</th>\n",
              "      <td>0.997</td>\n",
              "      <td>100</td>\n",
              "      <td>97.392644</td>\n",
              "      <td>99.870419</td>\n",
              "    </tr>\n",
              "    <tr>\n",
              "      <th>998</th>\n",
              "      <td>0.998</td>\n",
              "      <td>100</td>\n",
              "      <td>97.514636</td>\n",
              "      <td>99.856444</td>\n",
              "    </tr>\n",
              "    <tr>\n",
              "      <th>999</th>\n",
              "      <td>0.999</td>\n",
              "      <td>100</td>\n",
              "      <td>97.603541</td>\n",
              "      <td>99.842923</td>\n",
              "    </tr>\n",
              "  </tbody>\n",
              "</table>\n",
              "<p>1000 rows × 4 columns</p>\n",
              "</div>"
            ],
            "text/plain": [
              "     dateindex  trend       stock         ma\n",
              "0        0.000    100  100.884835        NaN\n",
              "1        0.001    100  101.022569        NaN\n",
              "2        0.002    100  101.035576        NaN\n",
              "3        0.003    100  101.057841        NaN\n",
              "4        0.004    100  101.063636        NaN\n",
              "..         ...    ...         ...        ...\n",
              "995      0.995    100   97.224865  99.898279\n",
              "996      0.996    100   97.395644  99.884368\n",
              "997      0.997    100   97.392644  99.870419\n",
              "998      0.998    100   97.514636  99.856444\n",
              "999      0.999    100   97.603541  99.842923\n",
              "\n",
              "[1000 rows x 4 columns]"
            ]
          },
          "metadata": {
            "tags": []
          },
          "execution_count": 96
        }
      ]
    },
    {
      "cell_type": "code",
      "metadata": {
        "id": "EJQOIRKhkjcb",
        "outputId": "44ab367d-e39f-4f69-8e00-65b69883635c",
        "colab": {
          "base_uri": "https://localhost:8080/",
          "height": 336
        }
      },
      "source": [
        "x = noise_shm_df['dateindex']\n",
        "y = noise_shm_df['stock']\n",
        "fig = plt.figure()\n",
        "ax = fig.add_axes([0,0,1,1])\n",
        "ax.plot(x,y)\n",
        "ax.set_title = \"Simple harmonic motion stock price\"\n",
        "ax.set_xlabel = \"Timestep\"\n",
        "ax.set_ylabel = 'Price'"
      ],
      "execution_count": 97,
      "outputs": [
        {
          "output_type": "display_data",
          "data": {
            "image/png": "[encoded data removed]",
            "text/plain": [
              "<Figure size 432x288 with 1 Axes>"
            ]
          },
          "metadata": {
            "tags": [],
            "needs_background": "light"
          }
        }
      ]
    },
    {
      "cell_type": "markdown",
      "metadata": {
        "id": "ZqE-ZzW5s2q-"
      },
      "source": [
        ""
      ]
    },
    {
      "cell_type": "markdown",
      "metadata": {
        "id": "KRgD_xuNssWs"
      },
      "source": [
        "## Training on noise added simple harmonic motion\n",
        "\n",
        "We train the same model on noise added data set. This time we train for 1,500 episodes up to time index 800. We use the remaining 200 time index data set as validation set."
      ]
    },
    {
      "cell_type": "code",
      "metadata": {
        "id": "AgsG9S71suKR"
      },
      "source": [
        "name = \"shm_noise\"\n",
        "agent = Agent(30, 1)\n",
        "rl_df = state_rp(agent, noise_shm_df)\n",
        "train_df, val_df= np.split(rl_df, [int(.8 *len(rl_df))])\n",
        "episodes_run(train_df, val_df, agent, 1200, name)\n",
        "plot_total_reward(agent.total_reward_hist, name)"
      ],
      "execution_count": null,
      "outputs": []
    },
    {
      "cell_type": "markdown",
      "metadata": {
        "id": "fUIKMlJ8CrXj"
      },
      "source": [
        "Total reward plot below shows that the model converges around 600th episode, with total reward ranging from 10 ~ 25.\n",
        "\n"
      ]
    },
    {
      "cell_type": "code",
      "metadata": {
        "id": "L-hCNOX4Casq",
        "outputId": "fd246139-b66f-41e5-f8b5-462ecf02b934",
        "colab": {
          "base_uri": "https://localhost:8080/",
          "height": 305
        }
      },
      "source": [
        "Image('shm_noise/total_reward.png')"
      ],
      "execution_count": 101,
      "outputs": [
        {
          "output_type": "execute_result",
          "data": {
            "image/png": "[encoded data removed]",
            "text/plain": [
              "<IPython.core.display.Image object>"
            ]
          },
          "metadata": {
            "tags": []
          },
          "execution_count": 101
        }
      ]
    },
    {
      "cell_type": "markdown",
      "metadata": {
        "id": "GNf7Uh-4FjEZ"
      },
      "source": [
        "Looking at the 800th episode plots, we see that the model tends to sell when there is a clear downward movement, and buy when there is upward movement. "
      ]
    },
    {
      "cell_type": "code",
      "metadata": {
        "id": "GjU-k2WXFrLV",
        "outputId": "0e22c4a0-03cc-4f4b-e4bd-5ba577252204",
        "colab": {
          "base_uri": "https://localhost:8080/",
          "height": 305
        }
      },
      "source": [
        "Image('shm_noise/plot_799/episode_799_part_1.png')"
      ],
      "execution_count": 108,
      "outputs": [
        {
          "output_type": "execute_result",
          "data": {
            "image/png": "[encoded data removed]",
            "text/plain": [
              "<IPython.core.display.Image object>"
            ]
          },
          "metadata": {
            "tags": []
          },
          "execution_count": 108
        }
      ]
    },
    {
      "cell_type": "code",
      "metadata": {
        "id": "cq1e5AV7REUN",
        "outputId": "7cd13ae7-2055-4727-a90d-eb13eec9bce1",
        "colab": {
          "base_uri": "https://localhost:8080/",
          "height": 305
        }
      },
      "source": [
        "Image('shm_noise/plot_799/episode_799_part_2.png')"
      ],
      "execution_count": 107,
      "outputs": [
        {
          "output_type": "execute_result",
          "data": {
            "image/png": "[encoded data removed]",
            "text/plain": [
              "<IPython.core.display.Image object>"
            ]
          },
          "metadata": {
            "tags": []
          },
          "execution_count": 107
        }
      ]
    },
    {
      "cell_type": "code",
      "metadata": {
        "id": "xEX6D3gGRdLc",
        "outputId": "ebfdb873-fcfe-4453-c099-f44e048dfa5b",
        "colab": {
          "base_uri": "https://localhost:8080/",
          "height": 305
        }
      },
      "source": [
        "Image('shm_noise/plot_799/episode_799_part_3.png')"
      ],
      "execution_count": 106,
      "outputs": [
        {
          "output_type": "execute_result",
          "data": {
            "image/png": "[encoded data removed]",
            "text/plain": [
              "<IPython.core.display.Image object>"
            ]
          },
          "metadata": {
            "tags": []
          },
          "execution_count": 106
        }
      ]
    },
    {
      "cell_type": "markdown",
      "metadata": {
        "id": "P0lKbUJpR0I_"
      },
      "source": [
        "## Evaluation on validation data set\n",
        "\n",
        "We use the validation data set to see how the model peroforms on unseen data set. The plot below is the model's trade history on the validation set after it's 800th train episode."
      ]
    },
    {
      "cell_type": "markdown",
      "metadata": {
        "id": "tkth3r0WTP02"
      },
      "source": [
        "We see that the model tend to sell for the entire 200 days, as price fall in general. It also picks up the intervals when price seems to bounce up again. Total reward of the model trading for these 200 days ended up as -0.62, which is very decent. This means that although price fell from around 100.5 to 97, the model actively trading for 200 days only led to loss of -0.62.  "
      ]
    },
    {
      "cell_type": "markdown",
      "metadata": {
        "id": "59-y1kpXTPwi"
      },
      "source": [
        ""
      ]
    },
    {
      "cell_type": "code",
      "metadata": {
        "id": "_jQkV0czTDq4",
        "outputId": "7cc22225-2b2b-49ad-ae04-f62b7dcc70de",
        "colab": {
          "base_uri": "https://localhost:8080/",
          "height": 305
        }
      },
      "source": [
        "Image('shm_noise/shm_noise_validation_799.png')"
      ],
      "execution_count": 109,
      "outputs": [
        {
          "output_type": "execute_result",
          "data": {
            "image/png": "[encoded data removed]",
            "text/plain": [
              "<IPython.core.display.Image object>"
            ]
          },
          "metadata": {
            "tags": []
          },
          "execution_count": 109
        }
      ]
    },
    {
      "cell_type": "markdown",
      "metadata": {
        "id": "k9fyH7u27AQK"
      },
      "source": [
        "# Conclusion\n",
        "\n",
        "Reinforcement learning, specifically Q value iteration, seems to grasp the general trend of price movements. The model's decision based on the expected Q values computed by it's deep neural network can signal when the trend is shifting, and tell us the current optimal action to take. \n",
        "\n",
        "This Q-learning model is not limited to stock prices. We have arbitrary decided to call the generated values as stock prices, so these data points can represent other numbers like population, temperature, etc. \n"
      ]
    },
    {
      "cell_type": "code",
      "metadata": {
        "id": "MeB2x1i4p1Aa"
      },
      "source": [
        "def make_gen_model(in_dim, l1_num, l2_num, act_size, learn, reg, dropout):\n",
        "        inputs = Input(shape=(in_dim,), name=\"Input\")\n",
        "\n",
        "        layer_1 = Dense(units=l1_num, \n",
        "                        activation=\"relu\",\n",
        "                        #kernel_initializer = 'zeros',\n",
        "                        #bias_initializer='zeros',\n",
        "                        kernel_initializer = glorot_uniform(),\n",
        "                        #bias_initializer = 'zeros',\n",
        "                        kernel_regularizer = l2(reg))(inputs)\n",
        "\n",
        "        last = layer_1\n",
        "\n",
        "        last = Dropout(dropout, name = \"Droupout\")(last)\n",
        "        \n",
        "        layer_2 = Dense(units=l1_num, \n",
        "                        activation=\"relu\",\n",
        "                        kernel_initializer = glorot_uniform(),\n",
        "                        #kernel_initializer = 'zeros',\n",
        "                        bias_initializer = 'zeros',\n",
        "                        kernel_regularizer = l2(reg))(last)\n",
        "\n",
        "        last = layer_2\n",
        "        \n",
        "\n",
        "        outputs = Dense(act_size, activation = 'linear',\n",
        "                        name = 'Output')(last)\n",
        "\n",
        "        model = Model(inputs = inputs, outputs = outputs)\n",
        "        model.compile(loss = 'mse', optimizer = Adam(learning_rate = learn))\n",
        "\n",
        "        return model\n"
      ],
      "execution_count": null,
      "outputs": []
    },
    {
      "cell_type": "markdown",
      "metadata": {
        "id": "8p6zaC_ztoWn"
      },
      "source": [
        "Train new generalzied model on random noise data set."
      ]
    },
    {
      "cell_type": "code",
      "metadata": {
        "id": "rKcqt2Nptu6x"
      },
      "source": [
        "name = \"generalized_model\"\n",
        "agent = Agent(30, 1)\n",
        "agent.model = make_gen_model(30,16,16,3,0.01, 0.001, 0.0675)\n",
        "rl_df = state_rp(agent, noise_df)\n",
        "episodes_run(rl_df, agent, 1000, name)\n",
        "plot_total_reward(agent.total_reward_hist, name)\n"
      ],
      "execution_count": null,
      "outputs": []
    },
    {
      "cell_type": "code",
      "metadata": {
        "id": "GOlcr0_-HuOX",
        "outputId": "cceabe90-050e-4199-963b-012fc7449a6f",
        "colab": {
          "base_uri": "https://localhost:8080/",
          "height": 305
        }
      },
      "source": [
        "Image('generalized_model/total_reward.png')"
      ],
      "execution_count": null,
      "outputs": [
        {
          "output_type": "execute_result",
          "data": {
            "image/png": "[encoded data removed]",
            "text/plain": [
              "<IPython.core.display.Image object>"
            ]
          },
          "metadata": {
            "tags": []
          },
          "execution_count": 20
        }
      ]
    },
    {
      "cell_type": "code",
      "metadata": {
        "id": "qOLzNTwzBw8z",
        "outputId": "275d1cda-9e40-4cfa-b220-3cf4fb44f726",
        "colab": {
          "base_uri": "https://localhost:8080/",
          "height": 305
        }
      },
      "source": [
        "Image('generalized_model/plot_800/episode_800_part_1.png')"
      ],
      "execution_count": null,
      "outputs": [
        {
          "output_type": "execute_result",
          "data": {
            "image/png": "[encoded data removed]",
            "text/plain": [
              "<IPython.core.display.Image object>"
            ]
          },
          "metadata": {
            "tags": []
          },
          "execution_count": 21
        }
      ]
    },
    {
      "cell_type": "code",
      "metadata": {
        "id": "HLwQAypRB4dc",
        "outputId": "825f0e57-8b92-4924-9cff-8111c8247119",
        "colab": {
          "base_uri": "https://localhost:8080/",
          "height": 305
        }
      },
      "source": [
        "Image('generalized_model/plot_800/episode_800_part_3.png')"
      ],
      "execution_count": null,
      "outputs": [
        {
          "output_type": "execute_result",
          "data": {
            "image/png": "[encoded data removed]",
            "text/plain": [
              "<IPython.core.display.Image object>"
            ]
          },
          "metadata": {
            "tags": []
          },
          "execution_count": 22
        }
      ]
    },
    {
      "cell_type": "markdown",
      "metadata": {
        "id": "RqX1G_BJBxiX"
      },
      "source": [
        ""
      ]
    },
    {
      "cell_type": "markdown",
      "metadata": {
        "id": "Vxdgp7J5B6ya"
      },
      "source": [
        "Now we try the generalized model on the validation set."
      ]
    },
    {
      "cell_type": "code",
      "metadata": {
        "id": "AswOAPhnB-ZV",
        "outputId": "d40bf950-4ead-402b-fbaf-03f23d336e6f",
        "colab": {
          "base_uri": "https://localhost:8080/",
          "height": 70
        }
      },
      "source": [
        "name = \"general_model_validation\"\n",
        "rl_df = state_rp(agent, val_df)\n",
        "episodes_run(rl_df, agent, 1, name)\n",
        "plot_total_reward(agent.total_reward_hist, name)"
      ],
      "execution_count": null,
      "outputs": [
        {
          "output_type": "stream",
          "text": [
            "episode 0\n"
          ],
          "name": "stdout"
        },
        {
          "output_type": "stream",
          "text": [
            "No handles with labels found to put in legend.\n"
          ],
          "name": "stderr"
        },
        {
          "output_type": "stream",
          "text": [
            "plotting...\n"
          ],
          "name": "stdout"
        }
      ]
    },
    {
      "cell_type": "code",
      "metadata": {
        "id": "OGuavX8VDc55",
        "outputId": "6050bfe6-b917-4b68-a043-d5dcf119865f",
        "colab": {
          "base_uri": "https://localhost:8080/",
          "height": 305
        }
      },
      "source": [
        "Image('general_model_validation/plot_0/episode_0_part_1.png')"
      ],
      "execution_count": null,
      "outputs": [
        {
          "output_type": "execute_result",
          "data": {
            "image/png": "[encoded data removed]",
            "text/plain": [
              "<IPython.core.display.Image object>"
            ]
          },
          "metadata": {
            "tags": []
          },
          "execution_count": 39
        }
      ]
    },
    {
      "cell_type": "code",
      "metadata": {
        "id": "840ignKMDpDx"
      },
      "source": [
        ""
      ],
      "execution_count": null,
      "outputs": []
    }
  ]
}